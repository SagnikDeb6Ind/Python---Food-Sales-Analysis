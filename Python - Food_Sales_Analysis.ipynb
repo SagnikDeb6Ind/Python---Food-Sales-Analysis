{
 "cells": [
  {
   "cell_type": "code",
   "execution_count": 1,
   "id": "856aefbe",
   "metadata": {},
   "outputs": [],
   "source": [
    "import numpy as np\n",
    "import pandas as pd\n",
    "import matplotlib.pyplot as plt\n",
    "%matplotlib inline\n",
    "import seaborn as sns"
   ]
  },
  {
   "cell_type": "code",
   "execution_count": 2,
   "id": "ba15bcda",
   "metadata": {},
   "outputs": [],
   "source": [
    "datf = pd.read_csv('Data - Food Sales.csv', encoding = 'unicode_escape')"
   ]
  },
  {
   "cell_type": "code",
   "execution_count": 3,
   "id": "53428fd6",
   "metadata": {},
   "outputs": [
    {
     "data": {
      "text/plain": [
       "(244, 9)"
      ]
     },
     "execution_count": 3,
     "metadata": {},
     "output_type": "execute_result"
    }
   ],
   "source": [
    "datf.shape"
   ]
  },
  {
   "cell_type": "code",
   "execution_count": 4,
   "id": "0cc968c4",
   "metadata": {},
   "outputs": [
    {
     "data": {
      "text/html": [
       "<div>\n",
       "<style scoped>\n",
       "    .dataframe tbody tr th:only-of-type {\n",
       "        vertical-align: middle;\n",
       "    }\n",
       "\n",
       "    .dataframe tbody tr th {\n",
       "        vertical-align: top;\n",
       "    }\n",
       "\n",
       "    .dataframe thead th {\n",
       "        text-align: right;\n",
       "    }\n",
       "</style>\n",
       "<table border=\"1\" class=\"dataframe\">\n",
       "  <thead>\n",
       "    <tr style=\"text-align: right;\">\n",
       "      <th></th>\n",
       "      <th>ID</th>\n",
       "      <th>Date</th>\n",
       "      <th>Region</th>\n",
       "      <th>City</th>\n",
       "      <th>Category</th>\n",
       "      <th>Product</th>\n",
       "      <th>Qty</th>\n",
       "      <th>UnitPrice</th>\n",
       "      <th>TotalPrice</th>\n",
       "    </tr>\n",
       "  </thead>\n",
       "  <tbody>\n",
       "    <tr>\n",
       "      <th>0</th>\n",
       "      <td>ID07351</td>\n",
       "      <td>1-Jan</td>\n",
       "      <td>East</td>\n",
       "      <td>Boston</td>\n",
       "      <td>Bars</td>\n",
       "      <td>Carrot</td>\n",
       "      <td>33</td>\n",
       "      <td>1.77</td>\n",
       "      <td>58.41</td>\n",
       "    </tr>\n",
       "    <tr>\n",
       "      <th>1</th>\n",
       "      <td>ID07352</td>\n",
       "      <td>4-Jan</td>\n",
       "      <td>East</td>\n",
       "      <td>Boston</td>\n",
       "      <td>Crackers</td>\n",
       "      <td>Whole Wheat</td>\n",
       "      <td>87</td>\n",
       "      <td>3.49</td>\n",
       "      <td>303.63</td>\n",
       "    </tr>\n",
       "    <tr>\n",
       "      <th>2</th>\n",
       "      <td>ID07353</td>\n",
       "      <td>7-Jan</td>\n",
       "      <td>West</td>\n",
       "      <td>Los Angeles</td>\n",
       "      <td>Cookies</td>\n",
       "      <td>Chocolate Chip</td>\n",
       "      <td>58</td>\n",
       "      <td>1.87</td>\n",
       "      <td>108.46</td>\n",
       "    </tr>\n",
       "    <tr>\n",
       "      <th>3</th>\n",
       "      <td>ID07354</td>\n",
       "      <td>10-Jan</td>\n",
       "      <td>East</td>\n",
       "      <td>New York</td>\n",
       "      <td>Cookies</td>\n",
       "      <td>Chocolate Chip</td>\n",
       "      <td>82</td>\n",
       "      <td>1.87</td>\n",
       "      <td>153.34</td>\n",
       "    </tr>\n",
       "    <tr>\n",
       "      <th>4</th>\n",
       "      <td>ID07355</td>\n",
       "      <td>13-Jan</td>\n",
       "      <td>East</td>\n",
       "      <td>Boston</td>\n",
       "      <td>Cookies</td>\n",
       "      <td>Arrowroot</td>\n",
       "      <td>38</td>\n",
       "      <td>2.18</td>\n",
       "      <td>82.84</td>\n",
       "    </tr>\n",
       "    <tr>\n",
       "      <th>5</th>\n",
       "      <td>ID07356</td>\n",
       "      <td>16-Jan</td>\n",
       "      <td>East</td>\n",
       "      <td>Boston</td>\n",
       "      <td>Bars</td>\n",
       "      <td>Carrot</td>\n",
       "      <td>54</td>\n",
       "      <td>1.77</td>\n",
       "      <td>95.58</td>\n",
       "    </tr>\n",
       "    <tr>\n",
       "      <th>6</th>\n",
       "      <td>ID07357</td>\n",
       "      <td>19-Jan</td>\n",
       "      <td>East</td>\n",
       "      <td>Boston</td>\n",
       "      <td>Crackers</td>\n",
       "      <td>Whole Wheat</td>\n",
       "      <td>149</td>\n",
       "      <td>3.49</td>\n",
       "      <td>520.01</td>\n",
       "    </tr>\n",
       "    <tr>\n",
       "      <th>7</th>\n",
       "      <td>ID07358</td>\n",
       "      <td>22-Jan</td>\n",
       "      <td>West</td>\n",
       "      <td>Los Angeles</td>\n",
       "      <td>Bars</td>\n",
       "      <td>Carrot</td>\n",
       "      <td>51</td>\n",
       "      <td>1.77</td>\n",
       "      <td>90.27</td>\n",
       "    </tr>\n",
       "    <tr>\n",
       "      <th>8</th>\n",
       "      <td>ID07359</td>\n",
       "      <td>25-Jan</td>\n",
       "      <td>East</td>\n",
       "      <td>New York</td>\n",
       "      <td>Bars</td>\n",
       "      <td>Carrot</td>\n",
       "      <td>100</td>\n",
       "      <td>1.77</td>\n",
       "      <td>177.00</td>\n",
       "    </tr>\n",
       "    <tr>\n",
       "      <th>9</th>\n",
       "      <td>ID07360</td>\n",
       "      <td>28-Jan</td>\n",
       "      <td>East</td>\n",
       "      <td>New York</td>\n",
       "      <td>Snacks</td>\n",
       "      <td>Potato Chips</td>\n",
       "      <td>28</td>\n",
       "      <td>1.35</td>\n",
       "      <td>37.80</td>\n",
       "    </tr>\n",
       "  </tbody>\n",
       "</table>\n",
       "</div>"
      ],
      "text/plain": [
       "        ID    Date Region         City  Category         Product  Qty  \\\n",
       "0  ID07351   1-Jan   East       Boston      Bars          Carrot   33   \n",
       "1  ID07352   4-Jan   East       Boston  Crackers     Whole Wheat   87   \n",
       "2  ID07353   7-Jan   West  Los Angeles   Cookies  Chocolate Chip   58   \n",
       "3  ID07354  10-Jan   East     New York   Cookies  Chocolate Chip   82   \n",
       "4  ID07355  13-Jan   East       Boston   Cookies       Arrowroot   38   \n",
       "5  ID07356  16-Jan   East       Boston      Bars          Carrot   54   \n",
       "6  ID07357  19-Jan   East       Boston  Crackers     Whole Wheat  149   \n",
       "7  ID07358  22-Jan   West  Los Angeles      Bars          Carrot   51   \n",
       "8  ID07359  25-Jan   East     New York      Bars          Carrot  100   \n",
       "9  ID07360  28-Jan   East     New York    Snacks    Potato Chips   28   \n",
       "\n",
       "   UnitPrice  TotalPrice  \n",
       "0       1.77       58.41  \n",
       "1       3.49      303.63  \n",
       "2       1.87      108.46  \n",
       "3       1.87      153.34  \n",
       "4       2.18       82.84  \n",
       "5       1.77       95.58  \n",
       "6       3.49      520.01  \n",
       "7       1.77       90.27  \n",
       "8       1.77      177.00  \n",
       "9       1.35       37.80  "
      ]
     },
     "execution_count": 4,
     "metadata": {},
     "output_type": "execute_result"
    }
   ],
   "source": [
    "datf.head(10)"
   ]
  },
  {
   "cell_type": "code",
   "execution_count": 5,
   "id": "5094fb1f",
   "metadata": {},
   "outputs": [
    {
     "name": "stdout",
     "output_type": "stream",
     "text": [
      "<class 'pandas.core.frame.DataFrame'>\n",
      "RangeIndex: 244 entries, 0 to 243\n",
      "Data columns (total 9 columns):\n",
      " #   Column      Non-Null Count  Dtype  \n",
      "---  ------      --------------  -----  \n",
      " 0   ID          244 non-null    object \n",
      " 1   Date        244 non-null    object \n",
      " 2   Region      244 non-null    object \n",
      " 3   City        244 non-null    object \n",
      " 4   Category    244 non-null    object \n",
      " 5   Product     244 non-null    object \n",
      " 6   Qty         244 non-null    int64  \n",
      " 7   UnitPrice   244 non-null    float64\n",
      " 8   TotalPrice  244 non-null    float64\n",
      "dtypes: float64(2), int64(1), object(6)\n",
      "memory usage: 17.3+ KB\n"
     ]
    }
   ],
   "source": [
    "datf.info()"
   ]
  },
  {
   "cell_type": "code",
   "execution_count": 6,
   "id": "393d11a1",
   "metadata": {},
   "outputs": [],
   "source": [
    "# From above output we see that our data has no null value column.\n",
    "# All columns have 244 non-null values.\n",
    "# So Data Cleaning is not required."
   ]
  },
  {
   "cell_type": "code",
   "execution_count": 7,
   "id": "f5d06cee",
   "metadata": {},
   "outputs": [
    {
     "data": {
      "text/plain": [
       "ID            0\n",
       "Date          0\n",
       "Region        0\n",
       "City          0\n",
       "Category      0\n",
       "Product       0\n",
       "Qty           0\n",
       "UnitPrice     0\n",
       "TotalPrice    0\n",
       "dtype: int64"
      ]
     },
     "execution_count": 7,
     "metadata": {},
     "output_type": "execute_result"
    }
   ],
   "source": [
    "# To further ensure that no null value is present we check for null values :\n",
    "\n",
    "pd.isnull(datf).sum()"
   ]
  },
  {
   "cell_type": "code",
   "execution_count": 8,
   "id": "1084ba99",
   "metadata": {},
   "outputs": [
    {
     "data": {
      "text/plain": [
       "Index(['ID', 'Date', 'Region', 'City', 'Category', 'Product', 'Qty',\n",
       "       'UnitPrice', 'TotalPrice'],\n",
       "      dtype='object')"
      ]
     },
     "execution_count": 8,
     "metadata": {},
     "output_type": "execute_result"
    }
   ],
   "source": [
    "datf.columns"
   ]
  },
  {
   "cell_type": "code",
   "execution_count": 9,
   "id": "b05fb2b8",
   "metadata": {},
   "outputs": [],
   "source": [
    "datf.rename(columns = {'UnitPrice' : 'Unit Price in Dollars'}, inplace = True)"
   ]
  },
  {
   "cell_type": "code",
   "execution_count": 10,
   "id": "74f05782",
   "metadata": {},
   "outputs": [
    {
     "data": {
      "text/plain": [
       "Index(['ID', 'Date', 'Region', 'City', 'Category', 'Product', 'Qty',\n",
       "       'Unit Price in Dollars', 'TotalPrice'],\n",
       "      dtype='object')"
      ]
     },
     "execution_count": 10,
     "metadata": {},
     "output_type": "execute_result"
    }
   ],
   "source": [
    "datf.columns"
   ]
  },
  {
   "cell_type": "code",
   "execution_count": 11,
   "id": "39d16974",
   "metadata": {},
   "outputs": [],
   "source": [
    "datf.rename(columns = {'TotalPrice' : 'Total Price in Dollars'}, inplace = True)"
   ]
  },
  {
   "cell_type": "code",
   "execution_count": 12,
   "id": "4a691064",
   "metadata": {},
   "outputs": [
    {
     "data": {
      "text/plain": [
       "Index(['ID', 'Date', 'Region', 'City', 'Category', 'Product', 'Qty',\n",
       "       'Unit Price in Dollars', 'Total Price in Dollars'],\n",
       "      dtype='object')"
      ]
     },
     "execution_count": 12,
     "metadata": {},
     "output_type": "execute_result"
    }
   ],
   "source": [
    "datf.columns"
   ]
  },
  {
   "cell_type": "code",
   "execution_count": 13,
   "id": "16195a20",
   "metadata": {},
   "outputs": [
    {
     "data": {
      "text/html": [
       "<div>\n",
       "<style scoped>\n",
       "    .dataframe tbody tr th:only-of-type {\n",
       "        vertical-align: middle;\n",
       "    }\n",
       "\n",
       "    .dataframe tbody tr th {\n",
       "        vertical-align: top;\n",
       "    }\n",
       "\n",
       "    .dataframe thead th {\n",
       "        text-align: right;\n",
       "    }\n",
       "</style>\n",
       "<table border=\"1\" class=\"dataframe\">\n",
       "  <thead>\n",
       "    <tr style=\"text-align: right;\">\n",
       "      <th></th>\n",
       "      <th>Unit Price in Dollars</th>\n",
       "      <th>Total Price in Dollars</th>\n",
       "    </tr>\n",
       "  </thead>\n",
       "  <tbody>\n",
       "    <tr>\n",
       "      <th>count</th>\n",
       "      <td>244.000000</td>\n",
       "      <td>244.000000</td>\n",
       "    </tr>\n",
       "    <tr>\n",
       "      <th>mean</th>\n",
       "      <td>2.200820</td>\n",
       "      <td>136.580246</td>\n",
       "    </tr>\n",
       "    <tr>\n",
       "      <th>std</th>\n",
       "      <td>0.600169</td>\n",
       "      <td>108.354231</td>\n",
       "    </tr>\n",
       "    <tr>\n",
       "      <th>min</th>\n",
       "      <td>1.350000</td>\n",
       "      <td>33.600000</td>\n",
       "    </tr>\n",
       "    <tr>\n",
       "      <th>25%</th>\n",
       "      <td>1.770000</td>\n",
       "      <td>72.570000</td>\n",
       "    </tr>\n",
       "    <tr>\n",
       "      <th>50%</th>\n",
       "      <td>1.870000</td>\n",
       "      <td>102.755000</td>\n",
       "    </tr>\n",
       "    <tr>\n",
       "      <th>75%</th>\n",
       "      <td>2.840000</td>\n",
       "      <td>159.300000</td>\n",
       "    </tr>\n",
       "    <tr>\n",
       "      <th>max</th>\n",
       "      <td>3.490000</td>\n",
       "      <td>817.920000</td>\n",
       "    </tr>\n",
       "  </tbody>\n",
       "</table>\n",
       "</div>"
      ],
      "text/plain": [
       "       Unit Price in Dollars  Total Price in Dollars\n",
       "count             244.000000              244.000000\n",
       "mean                2.200820              136.580246\n",
       "std                 0.600169              108.354231\n",
       "min                 1.350000               33.600000\n",
       "25%                 1.770000               72.570000\n",
       "50%                 1.870000              102.755000\n",
       "75%                 2.840000              159.300000\n",
       "max                 3.490000              817.920000"
      ]
     },
     "execution_count": 13,
     "metadata": {},
     "output_type": "execute_result"
    }
   ],
   "source": [
    "datf[['City', 'Category', 'Product', 'Unit Price in Dollars', 'Total Price in Dollars']].describe()"
   ]
  },
  {
   "cell_type": "code",
   "execution_count": 14,
   "id": "8b1b26ac",
   "metadata": {},
   "outputs": [
    {
     "data": {
      "image/png": "[encoded data removed]",
      "text/plain": [
       "<Figure size 640x480 with 1 Axes>"
      ]
     },
     "metadata": {},
     "output_type": "display_data"
    }
   ],
   "source": [
    "regx = sns.countplot(x = 'Region', data = datf)\n",
    "for bars in regx.containers:\n",
    "    regx.bar_label(bars)"
   ]
  },
  {
   "cell_type": "code",
   "execution_count": 15,
   "id": "6ccfed65",
   "metadata": {},
   "outputs": [
    {
     "data": {
      "image/png": "[encoded data removed]",
      "text/plain": [
       "<Figure size 640x480 with 1 Axes>"
      ]
     },
     "metadata": {},
     "output_type": "display_data"
    }
   ],
   "source": [
    "cx = sns.countplot(x = 'City', data = datf)\n",
    "for bars in cx.containers:\n",
    "    cx.bar_label(bars)"
   ]
  },
  {
   "cell_type": "code",
   "execution_count": 25,
   "id": "95bba934",
   "metadata": {},
   "outputs": [
    {
     "data": {
      "text/html": [
       "<div>\n",
       "<style scoped>\n",
       "    .dataframe tbody tr th:only-of-type {\n",
       "        vertical-align: middle;\n",
       "    }\n",
       "\n",
       "    .dataframe tbody tr th {\n",
       "        vertical-align: top;\n",
       "    }\n",
       "\n",
       "    .dataframe thead th {\n",
       "        text-align: right;\n",
       "    }\n",
       "</style>\n",
       "<table border=\"1\" class=\"dataframe\">\n",
       "  <thead>\n",
       "    <tr style=\"text-align: right;\">\n",
       "      <th></th>\n",
       "      <th>ID</th>\n",
       "      <th>Date</th>\n",
       "      <th>Region</th>\n",
       "      <th>City</th>\n",
       "      <th>Category</th>\n",
       "      <th>Product</th>\n",
       "      <th>Qty</th>\n",
       "      <th>Unit Price in Dollars</th>\n",
       "      <th>Total Price in Dollars</th>\n",
       "    </tr>\n",
       "  </thead>\n",
       "  <tbody>\n",
       "    <tr>\n",
       "      <th>0</th>\n",
       "      <td>ID07351</td>\n",
       "      <td>1-Jan</td>\n",
       "      <td>East</td>\n",
       "      <td>Boston</td>\n",
       "      <td>Bars</td>\n",
       "      <td>Carrot</td>\n",
       "      <td>33</td>\n",
       "      <td>1.77</td>\n",
       "      <td>58.41</td>\n",
       "    </tr>\n",
       "    <tr>\n",
       "      <th>1</th>\n",
       "      <td>ID07352</td>\n",
       "      <td>4-Jan</td>\n",
       "      <td>East</td>\n",
       "      <td>Boston</td>\n",
       "      <td>Crackers</td>\n",
       "      <td>Whole Wheat</td>\n",
       "      <td>87</td>\n",
       "      <td>3.49</td>\n",
       "      <td>303.63</td>\n",
       "    </tr>\n",
       "    <tr>\n",
       "      <th>4</th>\n",
       "      <td>ID07355</td>\n",
       "      <td>13-Jan</td>\n",
       "      <td>East</td>\n",
       "      <td>Boston</td>\n",
       "      <td>Cookies</td>\n",
       "      <td>Arrowroot</td>\n",
       "      <td>38</td>\n",
       "      <td>2.18</td>\n",
       "      <td>82.84</td>\n",
       "    </tr>\n",
       "    <tr>\n",
       "      <th>5</th>\n",
       "      <td>ID07356</td>\n",
       "      <td>16-Jan</td>\n",
       "      <td>East</td>\n",
       "      <td>Boston</td>\n",
       "      <td>Bars</td>\n",
       "      <td>Carrot</td>\n",
       "      <td>54</td>\n",
       "      <td>1.77</td>\n",
       "      <td>95.58</td>\n",
       "    </tr>\n",
       "    <tr>\n",
       "      <th>6</th>\n",
       "      <td>ID07357</td>\n",
       "      <td>19-Jan</td>\n",
       "      <td>East</td>\n",
       "      <td>Boston</td>\n",
       "      <td>Crackers</td>\n",
       "      <td>Whole Wheat</td>\n",
       "      <td>149</td>\n",
       "      <td>3.49</td>\n",
       "      <td>520.01</td>\n",
       "    </tr>\n",
       "    <tr>\n",
       "      <th>...</th>\n",
       "      <td>...</td>\n",
       "      <td>...</td>\n",
       "      <td>...</td>\n",
       "      <td>...</td>\n",
       "      <td>...</td>\n",
       "      <td>...</td>\n",
       "      <td>...</td>\n",
       "      <td>...</td>\n",
       "      <td>...</td>\n",
       "    </tr>\n",
       "    <tr>\n",
       "      <th>232</th>\n",
       "      <td>ID07583</td>\n",
       "      <td>27-Nov</td>\n",
       "      <td>East</td>\n",
       "      <td>Boston</td>\n",
       "      <td>Cookies</td>\n",
       "      <td>Chocolate Chip</td>\n",
       "      <td>211</td>\n",
       "      <td>1.87</td>\n",
       "      <td>394.57</td>\n",
       "    </tr>\n",
       "    <tr>\n",
       "      <th>233</th>\n",
       "      <td>ID07584</td>\n",
       "      <td>30-Nov</td>\n",
       "      <td>East</td>\n",
       "      <td>Boston</td>\n",
       "      <td>Crackers</td>\n",
       "      <td>Whole Wheat</td>\n",
       "      <td>20</td>\n",
       "      <td>3.49</td>\n",
       "      <td>69.80</td>\n",
       "    </tr>\n",
       "    <tr>\n",
       "      <th>239</th>\n",
       "      <td>ID07590</td>\n",
       "      <td>18-Dec</td>\n",
       "      <td>East</td>\n",
       "      <td>Boston</td>\n",
       "      <td>Cookies</td>\n",
       "      <td>Arrowroot</td>\n",
       "      <td>34</td>\n",
       "      <td>2.18</td>\n",
       "      <td>74.12</td>\n",
       "    </tr>\n",
       "    <tr>\n",
       "      <th>240</th>\n",
       "      <td>ID07591</td>\n",
       "      <td>21-Dec</td>\n",
       "      <td>East</td>\n",
       "      <td>Boston</td>\n",
       "      <td>Cookies</td>\n",
       "      <td>Chocolate Chip</td>\n",
       "      <td>245</td>\n",
       "      <td>1.87</td>\n",
       "      <td>458.15</td>\n",
       "    </tr>\n",
       "    <tr>\n",
       "      <th>241</th>\n",
       "      <td>ID07592</td>\n",
       "      <td>24-Dec</td>\n",
       "      <td>East</td>\n",
       "      <td>Boston</td>\n",
       "      <td>Crackers</td>\n",
       "      <td>Whole Wheat</td>\n",
       "      <td>30</td>\n",
       "      <td>3.49</td>\n",
       "      <td>104.70</td>\n",
       "    </tr>\n",
       "  </tbody>\n",
       "</table>\n",
       "<p>88 rows × 9 columns</p>\n",
       "</div>"
      ],
      "text/plain": [
       "          ID    Date Region    City  Category         Product  Qty  \\\n",
       "0    ID07351   1-Jan   East  Boston      Bars          Carrot   33   \n",
       "1    ID07352   4-Jan   East  Boston  Crackers     Whole Wheat   87   \n",
       "4    ID07355  13-Jan   East  Boston   Cookies       Arrowroot   38   \n",
       "5    ID07356  16-Jan   East  Boston      Bars          Carrot   54   \n",
       "6    ID07357  19-Jan   East  Boston  Crackers     Whole Wheat  149   \n",
       "..       ...     ...    ...     ...       ...             ...  ...   \n",
       "232  ID07583  27-Nov   East  Boston   Cookies  Chocolate Chip  211   \n",
       "233  ID07584  30-Nov   East  Boston  Crackers     Whole Wheat   20   \n",
       "239  ID07590  18-Dec   East  Boston   Cookies       Arrowroot   34   \n",
       "240  ID07591  21-Dec   East  Boston   Cookies  Chocolate Chip  245   \n",
       "241  ID07592  24-Dec   East  Boston  Crackers     Whole Wheat   30   \n",
       "\n",
       "     Unit Price in Dollars  Total Price in Dollars  \n",
       "0                     1.77                   58.41  \n",
       "1                     3.49                  303.63  \n",
       "4                     2.18                   82.84  \n",
       "5                     1.77                   95.58  \n",
       "6                     3.49                  520.01  \n",
       "..                     ...                     ...  \n",
       "232                   1.87                  394.57  \n",
       "233                   3.49                   69.80  \n",
       "239                   2.18                   74.12  \n",
       "240                   1.87                  458.15  \n",
       "241                   3.49                  104.70  \n",
       "\n",
       "[88 rows x 9 columns]"
      ]
     },
     "execution_count": 25,
     "metadata": {},
     "output_type": "execute_result"
    }
   ],
   "source": [
    "datf.query(f'City == \"Boston\"')"
   ]
  },
  {
   "cell_type": "code",
   "execution_count": 26,
   "id": "092ebf70",
   "metadata": {},
   "outputs": [],
   "source": [
    "# From the above analysis we find that maximum customers are from the City of Boston\n",
    "# Boston is located in eastern region\n",
    "# Eastern region has maximum customers"
   ]
  },
  {
   "cell_type": "code",
   "execution_count": 30,
   "id": "dbf9d07a",
   "metadata": {},
   "outputs": [
    {
     "data": {
      "text/plain": [
       "<Axes: xlabel='Category', ylabel='Total Price in Dollars'>"
      ]
     },
     "execution_count": 30,
     "metadata": {},
     "output_type": "execute_result"
    },
    {
     "data": {
      "image/png": "[encoded data removed]",
      "text/plain": [
       "<Figure size 640x480 with 1 Axes>"
      ]
     },
     "metadata": {},
     "output_type": "display_data"
    }
   ],
   "source": [
    "pdtsl = datf.groupby(['Category'], as_index = False)['Total Price in Dollars'].sum().sort_values(by = 'Total Price in Dollars', ascending = False)\n",
    "sns.barplot(x='Category', y= 'Total Price in Dollars', data = pdtsl)"
   ]
  },
  {
   "cell_type": "code",
   "execution_count": 32,
   "id": "a0534f43",
   "metadata": {},
   "outputs": [
    {
     "data": {
      "text/html": [
       "<div>\n",
       "<style scoped>\n",
       "    .dataframe tbody tr th:only-of-type {\n",
       "        vertical-align: middle;\n",
       "    }\n",
       "\n",
       "    .dataframe tbody tr th {\n",
       "        vertical-align: top;\n",
       "    }\n",
       "\n",
       "    .dataframe thead th {\n",
       "        text-align: right;\n",
       "    }\n",
       "</style>\n",
       "<table border=\"1\" class=\"dataframe\">\n",
       "  <thead>\n",
       "    <tr style=\"text-align: right;\">\n",
       "      <th></th>\n",
       "      <th>Product</th>\n",
       "      <th>Total Price in Dollars</th>\n",
       "    </tr>\n",
       "  </thead>\n",
       "  <tbody>\n",
       "    <tr>\n",
       "      <th>3</th>\n",
       "      <td>Carrot</td>\n",
       "      <td>7410.99</td>\n",
       "    </tr>\n",
       "    <tr>\n",
       "      <th>5</th>\n",
       "      <td>Oatmeal Raisin</td>\n",
       "      <td>7310.16</td>\n",
       "    </tr>\n",
       "    <tr>\n",
       "      <th>0</th>\n",
       "      <td>Arrowroot</td>\n",
       "      <td>5330.10</td>\n",
       "    </tr>\n",
       "    <tr>\n",
       "      <th>4</th>\n",
       "      <td>Chocolate Chip</td>\n",
       "      <td>4572.15</td>\n",
       "    </tr>\n",
       "    <tr>\n",
       "      <th>8</th>\n",
       "      <td>Whole Wheat</td>\n",
       "      <td>3339.93</td>\n",
       "    </tr>\n",
       "    <tr>\n",
       "      <th>2</th>\n",
       "      <td>Bran</td>\n",
       "      <td>2945.25</td>\n",
       "    </tr>\n",
       "    <tr>\n",
       "      <th>6</th>\n",
       "      <td>Potato Chips</td>\n",
       "      <td>1651.77</td>\n",
       "    </tr>\n",
       "    <tr>\n",
       "      <th>7</th>\n",
       "      <td>Pretzels</td>\n",
       "      <td>585.90</td>\n",
       "    </tr>\n",
       "    <tr>\n",
       "      <th>1</th>\n",
       "      <td>Banana</td>\n",
       "      <td>179.33</td>\n",
       "    </tr>\n",
       "  </tbody>\n",
       "</table>\n",
       "</div>"
      ],
      "text/plain": [
       "          Product  Total Price in Dollars\n",
       "3          Carrot                 7410.99\n",
       "5  Oatmeal Raisin                 7310.16\n",
       "0       Arrowroot                 5330.10\n",
       "4  Chocolate Chip                 4572.15\n",
       "8     Whole Wheat                 3339.93\n",
       "2            Bran                 2945.25\n",
       "6    Potato Chips                 1651.77\n",
       "7        Pretzels                  585.90\n",
       "1          Banana                  179.33"
      ]
     },
     "execution_count": 32,
     "metadata": {},
     "output_type": "execute_result"
    }
   ],
   "source": [
    "pdt = datf.groupby(['Product'], as_index = False)['Total Price in Dollars'].sum().sort_values(by = 'Total Price in Dollars', ascending = False)\n",
    "\n",
    "pdt"
   ]
  },
  {
   "cell_type": "code",
   "execution_count": 33,
   "id": "e04887dc",
   "metadata": {},
   "outputs": [
    {
     "data": {
      "text/html": [
       "<div>\n",
       "<style scoped>\n",
       "    .dataframe tbody tr th:only-of-type {\n",
       "        vertical-align: middle;\n",
       "    }\n",
       "\n",
       "    .dataframe tbody tr th {\n",
       "        vertical-align: top;\n",
       "    }\n",
       "\n",
       "    .dataframe thead th {\n",
       "        text-align: right;\n",
       "    }\n",
       "</style>\n",
       "<table border=\"1\" class=\"dataframe\">\n",
       "  <thead>\n",
       "    <tr style=\"text-align: right;\">\n",
       "      <th></th>\n",
       "      <th>ID</th>\n",
       "      <th>Date</th>\n",
       "      <th>Region</th>\n",
       "      <th>City</th>\n",
       "      <th>Category</th>\n",
       "      <th>Product</th>\n",
       "      <th>Qty</th>\n",
       "      <th>Unit Price in Dollars</th>\n",
       "      <th>Total Price in Dollars</th>\n",
       "    </tr>\n",
       "  </thead>\n",
       "  <tbody>\n",
       "    <tr>\n",
       "      <th>0</th>\n",
       "      <td>ID07351</td>\n",
       "      <td>1-Jan</td>\n",
       "      <td>East</td>\n",
       "      <td>Boston</td>\n",
       "      <td>Bars</td>\n",
       "      <td>Carrot</td>\n",
       "      <td>33</td>\n",
       "      <td>1.77</td>\n",
       "      <td>58.41</td>\n",
       "    </tr>\n",
       "    <tr>\n",
       "      <th>5</th>\n",
       "      <td>ID07356</td>\n",
       "      <td>16-Jan</td>\n",
       "      <td>East</td>\n",
       "      <td>Boston</td>\n",
       "      <td>Bars</td>\n",
       "      <td>Carrot</td>\n",
       "      <td>54</td>\n",
       "      <td>1.77</td>\n",
       "      <td>95.58</td>\n",
       "    </tr>\n",
       "    <tr>\n",
       "      <th>7</th>\n",
       "      <td>ID07358</td>\n",
       "      <td>22-Jan</td>\n",
       "      <td>West</td>\n",
       "      <td>Los Angeles</td>\n",
       "      <td>Bars</td>\n",
       "      <td>Carrot</td>\n",
       "      <td>51</td>\n",
       "      <td>1.77</td>\n",
       "      <td>90.27</td>\n",
       "    </tr>\n",
       "    <tr>\n",
       "      <th>8</th>\n",
       "      <td>ID07359</td>\n",
       "      <td>25-Jan</td>\n",
       "      <td>East</td>\n",
       "      <td>New York</td>\n",
       "      <td>Bars</td>\n",
       "      <td>Carrot</td>\n",
       "      <td>100</td>\n",
       "      <td>1.77</td>\n",
       "      <td>177.00</td>\n",
       "    </tr>\n",
       "    <tr>\n",
       "      <th>13</th>\n",
       "      <td>ID07364</td>\n",
       "      <td>9-Feb</td>\n",
       "      <td>West</td>\n",
       "      <td>Los Angeles</td>\n",
       "      <td>Bars</td>\n",
       "      <td>Carrot</td>\n",
       "      <td>44</td>\n",
       "      <td>1.77</td>\n",
       "      <td>77.88</td>\n",
       "    </tr>\n",
       "    <tr>\n",
       "      <th>...</th>\n",
       "      <td>...</td>\n",
       "      <td>...</td>\n",
       "      <td>...</td>\n",
       "      <td>...</td>\n",
       "      <td>...</td>\n",
       "      <td>...</td>\n",
       "      <td>...</td>\n",
       "      <td>...</td>\n",
       "      <td>...</td>\n",
       "    </tr>\n",
       "    <tr>\n",
       "      <th>219</th>\n",
       "      <td>ID07570</td>\n",
       "      <td>19-Oct</td>\n",
       "      <td>East</td>\n",
       "      <td>Boston</td>\n",
       "      <td>Bars</td>\n",
       "      <td>Carrot</td>\n",
       "      <td>43</td>\n",
       "      <td>1.77</td>\n",
       "      <td>76.11</td>\n",
       "    </tr>\n",
       "    <tr>\n",
       "      <th>221</th>\n",
       "      <td>ID07572</td>\n",
       "      <td>25-Oct</td>\n",
       "      <td>West</td>\n",
       "      <td>Los Angeles</td>\n",
       "      <td>Bars</td>\n",
       "      <td>Carrot</td>\n",
       "      <td>35</td>\n",
       "      <td>1.77</td>\n",
       "      <td>61.95</td>\n",
       "    </tr>\n",
       "    <tr>\n",
       "      <th>227</th>\n",
       "      <td>ID07578</td>\n",
       "      <td>12-Nov</td>\n",
       "      <td>West</td>\n",
       "      <td>Los Angeles</td>\n",
       "      <td>Bars</td>\n",
       "      <td>Carrot</td>\n",
       "      <td>137</td>\n",
       "      <td>1.77</td>\n",
       "      <td>242.49</td>\n",
       "    </tr>\n",
       "    <tr>\n",
       "      <th>230</th>\n",
       "      <td>ID07581</td>\n",
       "      <td>21-Nov</td>\n",
       "      <td>West</td>\n",
       "      <td>San Diego</td>\n",
       "      <td>Bars</td>\n",
       "      <td>Carrot</td>\n",
       "      <td>20</td>\n",
       "      <td>1.77</td>\n",
       "      <td>35.40</td>\n",
       "    </tr>\n",
       "    <tr>\n",
       "      <th>236</th>\n",
       "      <td>ID07587</td>\n",
       "      <td>9-Dec</td>\n",
       "      <td>East</td>\n",
       "      <td>New York</td>\n",
       "      <td>Bars</td>\n",
       "      <td>Carrot</td>\n",
       "      <td>38</td>\n",
       "      <td>1.77</td>\n",
       "      <td>67.26</td>\n",
       "    </tr>\n",
       "  </tbody>\n",
       "</table>\n",
       "<p>64 rows × 9 columns</p>\n",
       "</div>"
      ],
      "text/plain": [
       "          ID    Date Region         City Category Product  Qty  \\\n",
       "0    ID07351   1-Jan   East       Boston     Bars  Carrot   33   \n",
       "5    ID07356  16-Jan   East       Boston     Bars  Carrot   54   \n",
       "7    ID07358  22-Jan   West  Los Angeles     Bars  Carrot   51   \n",
       "8    ID07359  25-Jan   East     New York     Bars  Carrot  100   \n",
       "13   ID07364   9-Feb   West  Los Angeles     Bars  Carrot   44   \n",
       "..       ...     ...    ...          ...      ...     ...  ...   \n",
       "219  ID07570  19-Oct   East       Boston     Bars  Carrot   43   \n",
       "221  ID07572  25-Oct   West  Los Angeles     Bars  Carrot   35   \n",
       "227  ID07578  12-Nov   West  Los Angeles     Bars  Carrot  137   \n",
       "230  ID07581  21-Nov   West    San Diego     Bars  Carrot   20   \n",
       "236  ID07587   9-Dec   East     New York     Bars  Carrot   38   \n",
       "\n",
       "     Unit Price in Dollars  Total Price in Dollars  \n",
       "0                     1.77                   58.41  \n",
       "5                     1.77                   95.58  \n",
       "7                     1.77                   90.27  \n",
       "8                     1.77                  177.00  \n",
       "13                    1.77                   77.88  \n",
       "..                     ...                     ...  \n",
       "219                   1.77                   76.11  \n",
       "221                   1.77                   61.95  \n",
       "227                   1.77                  242.49  \n",
       "230                   1.77                   35.40  \n",
       "236                   1.77                   67.26  \n",
       "\n",
       "[64 rows x 9 columns]"
      ]
     },
     "execution_count": 33,
     "metadata": {},
     "output_type": "execute_result"
    }
   ],
   "source": [
    "datf.query(f'Product == \"Carrot\"')"
   ]
  },
  {
   "cell_type": "code",
   "execution_count": 34,
   "id": "5d10fbaf",
   "metadata": {},
   "outputs": [],
   "source": [
    "# From the above analysis we see that cookies category brings the highest revenue\n",
    "# Whereas snacks category brings the lowest revenue\n",
    "# But in terms of individual product \"Carrot\" of \"Bars\" generates the highest revenue"
   ]
  },
  {
   "cell_type": "code",
   "execution_count": 35,
   "id": "363796b9",
   "metadata": {},
   "outputs": [
    {
     "data": {
      "text/html": [
       "<div>\n",
       "<style scoped>\n",
       "    .dataframe tbody tr th:only-of-type {\n",
       "        vertical-align: middle;\n",
       "    }\n",
       "\n",
       "    .dataframe tbody tr th {\n",
       "        vertical-align: top;\n",
       "    }\n",
       "\n",
       "    .dataframe thead th {\n",
       "        text-align: right;\n",
       "    }\n",
       "</style>\n",
       "<table border=\"1\" class=\"dataframe\">\n",
       "  <thead>\n",
       "    <tr style=\"text-align: right;\">\n",
       "      <th></th>\n",
       "      <th>Product</th>\n",
       "      <th>Qty</th>\n",
       "    </tr>\n",
       "  </thead>\n",
       "  <tbody>\n",
       "    <tr>\n",
       "      <th>3</th>\n",
       "      <td>Carrot</td>\n",
       "      <td>4187</td>\n",
       "    </tr>\n",
       "    <tr>\n",
       "      <th>5</th>\n",
       "      <td>Oatmeal Raisin</td>\n",
       "      <td>2574</td>\n",
       "    </tr>\n",
       "    <tr>\n",
       "      <th>0</th>\n",
       "      <td>Arrowroot</td>\n",
       "      <td>2445</td>\n",
       "    </tr>\n",
       "    <tr>\n",
       "      <th>4</th>\n",
       "      <td>Chocolate Chip</td>\n",
       "      <td>2445</td>\n",
       "    </tr>\n",
       "    <tr>\n",
       "      <th>2</th>\n",
       "      <td>Bran</td>\n",
       "      <td>1575</td>\n",
       "    </tr>\n",
       "    <tr>\n",
       "      <th>6</th>\n",
       "      <td>Potato Chips</td>\n",
       "      <td>994</td>\n",
       "    </tr>\n",
       "    <tr>\n",
       "      <th>8</th>\n",
       "      <td>Whole Wheat</td>\n",
       "      <td>957</td>\n",
       "    </tr>\n",
       "    <tr>\n",
       "      <th>7</th>\n",
       "      <td>Pretzels</td>\n",
       "      <td>186</td>\n",
       "    </tr>\n",
       "    <tr>\n",
       "      <th>1</th>\n",
       "      <td>Banana</td>\n",
       "      <td>79</td>\n",
       "    </tr>\n",
       "  </tbody>\n",
       "</table>\n",
       "</div>"
      ],
      "text/plain": [
       "          Product   Qty\n",
       "3          Carrot  4187\n",
       "5  Oatmeal Raisin  2574\n",
       "0       Arrowroot  2445\n",
       "4  Chocolate Chip  2445\n",
       "2            Bran  1575\n",
       "6    Potato Chips   994\n",
       "8     Whole Wheat   957\n",
       "7        Pretzels   186\n",
       "1          Banana    79"
      ]
     },
     "execution_count": 35,
     "metadata": {},
     "output_type": "execute_result"
    }
   ],
   "source": [
    "qty = datf.groupby(['Product'], as_index = False)['Qty'].sum().sort_values(by = 'Qty', ascending = False)\n",
    "\n",
    "qty"
   ]
  },
  {
   "cell_type": "code",
   "execution_count": 38,
   "id": "49d9fedd",
   "metadata": {},
   "outputs": [
    {
     "data": {
      "image/png": "[encoded data removed]",
      "text/plain": [
       "<Figure size 640x480 with 1 Axes>"
      ]
     },
     "metadata": {},
     "output_type": "display_data"
    }
   ],
   "source": [
    "qtyc = datf.groupby(['Category'], as_index = False)['Qty'].sum().sort_values(by = 'Qty', ascending = False)\n",
    "px = sns.barplot(x='Category', y= 'Qty', data = qtyc)\n",
    "for bars in px.containers:\n",
    "    px.bar_label(bars)"
   ]
  },
  {
   "cell_type": "code",
   "execution_count": 39,
   "id": "a37fd595",
   "metadata": {},
   "outputs": [],
   "source": [
    "# From the above analysis we see that cookies category as whole constitutes the greatest number of items sold\n",
    "# Where as individual product \"Carrot\" of \"Bars\" category has highest number of sales\n",
    "# Cookies and Bars make up most of the sales hence may be assumed to have great demands\n",
    "# Sncks and Crackers make only marginal sales hence may be assumed to have less demands"
   ]
  },
  {
   "cell_type": "code",
   "execution_count": 40,
   "id": "f65fcefb",
   "metadata": {},
   "outputs": [
    {
     "data": {
      "image/png": "[encoded data removed]",
      "text/plain": [
       "<Figure size 640x480 with 1 Axes>"
      ]
     },
     "metadata": {},
     "output_type": "display_data"
    }
   ],
   "source": [
    "cookiesdb1 = datf.query(f'Category == \"Cookies\"')\n",
    "\n",
    "cookiesdb2 = cookiesdb1. groupby(['Product'], as_index = False)['Qty'].sum().sort_values(by = 'Qty', ascending = False)\n",
    "\n",
    "dx = sns.barplot(x='Product', y= 'Qty', data = cookiesdb2)\n",
    "for bars in dx.containers:\n",
    "    dx.bar_label(bars)"
   ]
  },
  {
   "cell_type": "code",
   "execution_count": 41,
   "id": "2855b86d",
   "metadata": {},
   "outputs": [],
   "source": [
    "# From the above analysis we see that almost all products in the cookies category have nearly equal sales and hence demand.\n",
    "# All the products have their individual sales greater than Snacks and Crackers Category"
   ]
  },
  {
   "cell_type": "code",
   "execution_count": 43,
   "id": "fc6b7032",
   "metadata": {},
   "outputs": [
    {
     "data": {
      "image/png": "[encoded data removed]",
      "text/plain": [
       "<Figure size 640x480 with 1 Axes>"
      ]
     },
     "metadata": {},
     "output_type": "display_data"
    }
   ],
   "source": [
    "barsdb1 = datf.query(f'Category == \"Bars\"')\n",
    "\n",
    "barsdb2 = barsdb1. groupby(['Product'], as_index = False)['Qty'].sum().sort_values(by = 'Qty', ascending = False)\n",
    "\n",
    "ax = sns.barplot(x='Product', y= 'Qty', data = barsdb2)\n",
    "for bars in ax.containers:\n",
    "    ax.bar_label(bars)"
   ]
  },
  {
   "cell_type": "code",
   "execution_count": 44,
   "id": "093badc3",
   "metadata": {},
   "outputs": [],
   "source": [
    "# From the above analysis we see that in the 'Bars' Category Carrot has the maximum sale with 4187 units\n",
    "# Bran product has a sale of 1575 units\n",
    "# Banana has the least sale among the three with only 79 units"
   ]
  },
  {
   "cell_type": "code",
   "execution_count": 45,
   "id": "7a943c0a",
   "metadata": {},
   "outputs": [],
   "source": [
    "# From the above two comparisons we can safely say that maintaining a greater inventory of cookies can help to meet the demand.\n",
    "# Also Banana units may be reduced as they are sold in very less quantity\n",
    "# Carrot has nearly twice the sale compared to any product in the cookies category"
   ]
  },
  {
   "cell_type": "markdown",
   "id": "6dff0166",
   "metadata": {},
   "source": [
    "# CONCLUSION\n"
   ]
  },
  {
   "cell_type": "markdown",
   "id": "696ba59a",
   "metadata": {},
   "source": [
    "From the Data we could obtain the fact that the food store recieves greatest orders from the eastern city of Boston.\n",
    "The Products of the cookies category bring the greatest revenue as well as sales in terms of units sold\n",
    "All the products of cookies category have nearly similar number of units sold (each above 2000 units)\n",
    "So it is safe to maintain a good inventory of cookies\n",
    "Among all products Carrot of \"Bars\" category has the maximum revenue and units sold. But other products of \"Bars\" category donot have an equally sales record. So from \"Bars\" category Carrots may have more inventory and inventory of banana should be avoided"
   ]
  },
  {
   "cell_type": "markdown",
   "id": "178855e1",
   "metadata": {},
   "source": [
    "# Project Prepared By :"
   ]
  },
  {
   "cell_type": "markdown",
   "id": "92869903",
   "metadata": {},
   "source": [
    "Name : Sagnik Deb\n",
    "\n",
    "Email : sagnik6email@gmail.com\n",
    "\n",
    "Institute : National Institute of Technology Agartala"
   ]
  },
  {
   "cell_type": "markdown",
   "id": "cf36d6fa",
   "metadata": {},
   "source": [
    "THANK YOU"
   ]
  },
  {
   "cell_type": "code",
   "execution_count": null,
   "id": "b2eacf25",
   "metadata": {},
   "outputs": [],
   "source": []
  }
 ],
 "metadata": {
  "kernelspec": {
   "display_name": "Python 3 (ipykernel)",
   "language": "python",
   "name": "python3"
  },
  "language_info": {
   "codemirror_mode": {
    "name": "ipython",
    "version": 3
   },
   "file_extension": ".py",
   "mimetype": "text/x-python",
   "name": "python",
   "nbconvert_exporter": "python",
   "pygments_lexer": "ipython3",
   "version": "3.10.11"
  }
 },
 "nbformat": 4,
 "nbformat_minor": 5
}
