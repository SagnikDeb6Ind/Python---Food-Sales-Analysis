{
 "cells": [
  {
   "cell_type": "code",
   "execution_count": 1,
   "id": "a64ffb08",
   "metadata": {},
   "outputs": [
    {
     "name": "stdout",
     "output_type": "stream",
     "text": [
      "Requirement already satisfied: numpy in c:\\python310\\lib\\site-packages (1.25.1)\n"
     ]
    },
    {
     "name": "stderr",
     "output_type": "stream",
     "text": [
      "\n",
      "[notice] A new release of pip is available: 23.0.1 -> 23.2\n",
      "[notice] To update, run: python.exe -m pip install --upgrade pip\n"
     ]
    }
   ],
   "source": [
    "!pip install numpy"
   ]
  },
  {
   "cell_type": "code",
   "execution_count": 2,
   "id": "ab8c0366",
   "metadata": {},
   "outputs": [
    {
     "name": "stdout",
     "output_type": "stream",
     "text": [
      "Collecting pandas\n",
      "  Downloading pandas-2.0.3-cp310-cp310-win_amd64.whl (10.7 MB)\n",
      "     ---------------------------------------- 0.0/10.7 MB ? eta -:--:--\n",
      "     ---------------------------------------- 0.0/10.7 MB 1.3 MB/s eta 0:00:09\n",
      "     ---------------------------------------- 0.0/10.7 MB 1.3 MB/s eta 0:00:09\n",
      "     --------------------------------------- 0.1/10.7 MB 726.2 kB/s eta 0:00:15\n",
      "      -------------------------------------- 0.1/10.7 MB 708.1 kB/s eta 0:00:15\n",
      "      --------------------------------------- 0.2/10.7 MB 1.1 MB/s eta 0:00:10\n",
      "     - -------------------------------------- 0.3/10.7 MB 1.2 MB/s eta 0:00:09\n",
      "     - -------------------------------------- 0.5/10.7 MB 1.7 MB/s eta 0:00:07\n",
      "     -- ------------------------------------- 0.6/10.7 MB 1.6 MB/s eta 0:00:07\n",
      "     --- ------------------------------------ 1.0/10.7 MB 2.5 MB/s eta 0:00:04\n",
      "     ---- ----------------------------------- 1.3/10.7 MB 2.8 MB/s eta 0:00:04\n",
      "     ------- -------------------------------- 2.1/10.7 MB 4.0 MB/s eta 0:00:03\n",
      "     ------- -------------------------------- 2.1/10.7 MB 4.0 MB/s eta 0:00:03\n",
      "     ------- -------------------------------- 2.1/10.7 MB 4.0 MB/s eta 0:00:03\n",
      "     ------- -------------------------------- 2.1/10.7 MB 4.0 MB/s eta 0:00:03\n",
      "     --------- ------------------------------ 2.6/10.7 MB 3.8 MB/s eta 0:00:03\n",
      "     ------------ --------------------------- 3.3/10.7 MB 4.5 MB/s eta 0:00:02\n",
      "     -------------- ------------------------- 3.8/10.7 MB 4.9 MB/s eta 0:00:02\n",
      "     --------------- ------------------------ 4.2/10.7 MB 5.1 MB/s eta 0:00:02\n",
      "     --------------- ------------------------ 4.2/10.7 MB 5.1 MB/s eta 0:00:02\n",
      "     ---------------- ----------------------- 4.4/10.7 MB 4.8 MB/s eta 0:00:02\n",
      "     ------------------- -------------------- 5.1/10.7 MB 5.3 MB/s eta 0:00:02\n",
      "     --------------------- ------------------ 5.7/10.7 MB 5.6 MB/s eta 0:00:01\n",
      "     ----------------------- ---------------- 6.3/10.7 MB 5.9 MB/s eta 0:00:01\n",
      "     ------------------------- -------------- 6.9/10.7 MB 6.2 MB/s eta 0:00:01\n",
      "     --------------------------- ------------ 7.5/10.7 MB 6.4 MB/s eta 0:00:01\n",
      "     ------------------------------ --------- 8.0/10.7 MB 6.6 MB/s eta 0:00:01\n",
      "     -------------------------------- ------- 8.6/10.7 MB 6.8 MB/s eta 0:00:01\n",
      "     ---------------------------------- ----- 9.2/10.7 MB 7.1 MB/s eta 0:00:01\n",
      "     ------------------------------------ --- 9.7/10.7 MB 7.2 MB/s eta 0:00:01\n",
      "     ------------------------------------- -- 10.1/10.7 MB 7.4 MB/s eta 0:00:01\n",
      "     -------------------------------------- - 10.2/10.7 MB 7.2 MB/s eta 0:00:01\n",
      "     -------------------------------------- - 10.2/10.7 MB 7.2 MB/s eta 0:00:01\n",
      "     -------------------------------------- - 10.2/10.7 MB 6.7 MB/s eta 0:00:01\n",
      "     -------------------------------------- - 10.2/10.7 MB 6.7 MB/s eta 0:00:01\n",
      "     -------------------------------------- - 10.4/10.7 MB 7.1 MB/s eta 0:00:01\n",
      "     -------------------------------------- - 10.4/10.7 MB 7.1 MB/s eta 0:00:01\n",
      "     ---------------------------------------  10.5/10.7 MB 7.0 MB/s eta 0:00:01\n",
      "     ---------------------------------------  10.5/10.7 MB 7.0 MB/s eta 0:00:01\n",
      "     ---------------------------------------  10.7/10.7 MB 6.8 MB/s eta 0:00:01\n",
      "     ---------------------------------------  10.7/10.7 MB 6.8 MB/s eta 0:00:01\n",
      "     ---------------------------------------  10.7/10.7 MB 6.8 MB/s eta 0:00:01\n",
      "     ---------------------------------------  10.7/10.7 MB 6.8 MB/s eta 0:00:01\n",
      "     ---------------------------------------  10.7/10.7 MB 6.8 MB/s eta 0:00:01\n",
      "     ---------------------------------------  10.7/10.7 MB 6.8 MB/s eta 0:00:01\n",
      "     ---------------------------------------- 10.7/10.7 MB 5.7 MB/s eta 0:00:00\n",
      "Collecting pytz>=2020.1\n",
      "  Downloading pytz-2023.3-py2.py3-none-any.whl (502 kB)\n",
      "     ---------------------------------------- 0.0/502.3 kB ? eta -:--:--\n",
      "     ------------------------------------  501.8/502.3 kB 15.9 MB/s eta 0:00:01\n",
      "     ------------------------------------  501.8/502.3 kB 15.9 MB/s eta 0:00:01\n",
      "     ------------------------------------  501.8/502.3 kB 15.9 MB/s eta 0:00:01\n",
      "     ------------------------------------  501.8/502.3 kB 15.9 MB/s eta 0:00:01\n",
      "     ------------------------------------  501.8/502.3 kB 15.9 MB/s eta 0:00:01\n",
      "     ------------------------------------  501.8/502.3 kB 15.9 MB/s eta 0:00:01\n",
      "     -------------------------------------- 502.3/502.3 kB 1.8 MB/s eta 0:00:00\n",
      "Requirement already satisfied: python-dateutil>=2.8.2 in c:\\python310\\lib\\site-packages (from pandas) (2.8.2)\n",
      "Collecting tzdata>=2022.1\n",
      "  Downloading tzdata-2023.3-py2.py3-none-any.whl (341 kB)\n",
      "     ---------------------------------------- 0.0/341.8 kB ? eta -:--:--\n",
      "     ------------------------------------- 341.8/341.8 kB 10.7 MB/s eta 0:00:00\n",
      "Requirement already satisfied: numpy>=1.21.0 in c:\\python310\\lib\\site-packages (from pandas) (1.25.1)\n",
      "Requirement already satisfied: six>=1.5 in c:\\python310\\lib\\site-packages (from python-dateutil>=2.8.2->pandas) (1.16.0)\n",
      "Installing collected packages: pytz, tzdata, pandas\n",
      "Successfully installed pandas-2.0.3 pytz-2023.3 tzdata-2023.3\n"
     ]
    },
    {
     "name": "stderr",
     "output_type": "stream",
     "text": [
      "\n",
      "[notice] A new release of pip is available: 23.0.1 -> 23.2\n",
      "[notice] To update, run: python.exe -m pip install --upgrade pip\n"
     ]
    }
   ],
   "source": [
    "!pip install pandas"
   ]
  },
  {
   "cell_type": "code",
   "execution_count": 3,
   "id": "5b98db81",
   "metadata": {},
   "outputs": [
    {
     "name": "stdout",
     "output_type": "stream",
     "text": [
      "Collecting matplotlib\n",
      "  Downloading matplotlib-3.7.2-cp310-cp310-win_amd64.whl (7.5 MB)\n",
      "     ---------------------------------------- 0.0/7.5 MB ? eta -:--:--\n",
      "     ---------------------------------------- 0.0/7.5 MB 1.3 MB/s eta 0:00:06\n",
      "     ---------------------------------------- 0.0/7.5 MB 495.5 kB/s eta 0:00:16\n",
      "      --------------------------------------- 0.1/7.5 MB 845.5 kB/s eta 0:00:09\n",
      "      --------------------------------------- 0.1/7.5 MB 798.9 kB/s eta 0:00:10\n",
      "     - -------------------------------------- 0.3/7.5 MB 1.3 MB/s eta 0:00:06\n",
      "     - -------------------------------------- 0.3/7.5 MB 1.3 MB/s eta 0:00:06\n",
      "     -- ------------------------------------- 0.4/7.5 MB 1.5 MB/s eta 0:00:05\n",
      "     ---- ----------------------------------- 0.8/7.5 MB 2.3 MB/s eta 0:00:03\n",
      "     ------ --------------------------------- 1.1/7.5 MB 2.7 MB/s eta 0:00:03\n",
      "     ------- -------------------------------- 1.4/7.5 MB 3.1 MB/s eta 0:00:02\n",
      "     ---------- ----------------------------- 2.1/7.5 MB 4.1 MB/s eta 0:00:02\n",
      "     ------------ --------------------------- 2.4/7.5 MB 4.3 MB/s eta 0:00:02\n",
      "     ------------- -------------------------- 2.5/7.5 MB 4.4 MB/s eta 0:00:02\n",
      "     ------------- -------------------------- 2.5/7.5 MB 4.4 MB/s eta 0:00:02\n",
      "     --------------- ------------------------ 2.8/7.5 MB 4.1 MB/s eta 0:00:02\n",
      "     ----------------- ---------------------- 3.3/7.5 MB 4.4 MB/s eta 0:00:01\n",
      "     ---------------------- ----------------- 4.2/7.5 MB 5.3 MB/s eta 0:00:01\n",
      "     ------------------------- -------------- 4.8/7.5 MB 5.8 MB/s eta 0:00:01\n",
      "     -------------------------- ------------- 4.9/7.5 MB 5.8 MB/s eta 0:00:01\n",
      "     -------------------------- ------------- 4.9/7.5 MB 5.8 MB/s eta 0:00:01\n",
      "     ---------------------------------- ----- 6.4/7.5 MB 6.6 MB/s eta 0:00:01\n",
      "     ------------------------------------ --- 6.8/7.5 MB 6.7 MB/s eta 0:00:01\n",
      "     ---------------------------------------  7.5/7.5 MB 7.0 MB/s eta 0:00:01\n",
      "     ---------------------------------------  7.5/7.5 MB 7.0 MB/s eta 0:00:01\n",
      "     ---------------------------------------  7.5/7.5 MB 7.0 MB/s eta 0:00:01\n",
      "     ---------------------------------------  7.5/7.5 MB 7.0 MB/s eta 0:00:01\n",
      "     ---------------------------------------  7.5/7.5 MB 7.0 MB/s eta 0:00:01\n",
      "     ---------------------------------------  7.5/7.5 MB 7.0 MB/s eta 0:00:01\n",
      "     ---------------------------------------- 7.5/7.5 MB 5.7 MB/s eta 0:00:00\n",
      "Collecting fonttools>=4.22.0\n",
      "  Downloading fonttools-4.41.0-cp310-cp310-win_amd64.whl (2.0 MB)\n",
      "     ---------------------------------------- 0.0/2.0 MB ? eta -:--:--\n",
      "     ------------------- -------------------- 1.0/2.0 MB 20.0 MB/s eta 0:00:01\n",
      "     ------------------------------- -------- 1.5/2.0 MB 19.7 MB/s eta 0:00:01\n",
      "     -------------------------------------- - 1.9/2.0 MB 15.2 MB/s eta 0:00:01\n",
      "     ---------------------------------------  1.9/2.0 MB 13.6 MB/s eta 0:00:01\n",
      "     ---------------------------------------  2.0/2.0 MB 9.6 MB/s eta 0:00:01\n",
      "     ---------------------------------------  2.0/2.0 MB 9.6 MB/s eta 0:00:01\n",
      "     ---------------------------------------  2.0/2.0 MB 9.6 MB/s eta 0:00:01\n",
      "     ---------------------------------------  2.0/2.0 MB 9.6 MB/s eta 0:00:01\n",
      "     ---------------------------------------  2.0/2.0 MB 9.6 MB/s eta 0:00:01\n",
      "     ---------------------------------------- 2.0/2.0 MB 4.6 MB/s eta 0:00:00\n",
      "Collecting kiwisolver>=1.0.1\n",
      "  Downloading kiwisolver-1.4.4-cp310-cp310-win_amd64.whl (55 kB)\n",
      "     ---------------------------------------- 0.0/55.3 kB ? eta -:--:--\n",
      "     ------------------------------------- -- 51.2/55.3 kB ? eta -:--:--\n",
      "     -------------------------------------- 55.3/55.3 kB 726.2 kB/s eta 0:00:00\n",
      "Collecting cycler>=0.10\n",
      "  Downloading cycler-0.11.0-py3-none-any.whl (6.4 kB)\n",
      "Requirement already satisfied: numpy>=1.20 in c:\\python310\\lib\\site-packages (from matplotlib) (1.25.1)\n",
      "Collecting pyparsing<3.1,>=2.3.1\n",
      "  Downloading pyparsing-3.0.9-py3-none-any.whl (98 kB)\n",
      "     ---------------------------------------- 0.0/98.3 kB ? eta -:--:--\n",
      "     ---------------------------------------- 98.3/98.3 kB 2.8 MB/s eta 0:00:00\n",
      "Requirement already satisfied: packaging>=20.0 in c:\\python310\\lib\\site-packages (from matplotlib) (23.1)\n",
      "Collecting pillow>=6.2.0\n",
      "  Downloading Pillow-10.0.0-cp310-cp310-win_amd64.whl (2.5 MB)\n",
      "     ---------------------------------------- 0.0/2.5 MB ? eta -:--:--\n",
      "     ----------- ---------------------------- 0.7/2.5 MB 14.8 MB/s eta 0:00:01\n",
      "     ----------------- ---------------------- 1.1/2.5 MB 11.5 MB/s eta 0:00:01\n",
      "     ---------------------- ----------------- 1.4/2.5 MB 10.1 MB/s eta 0:00:01\n",
      "     ------------------------------ --------- 1.9/2.5 MB 11.3 MB/s eta 0:00:01\n",
      "     ---------------------------------- ----- 2.2/2.5 MB 9.2 MB/s eta 0:00:01\n",
      "     ---------------------------------------  2.5/2.5 MB 9.4 MB/s eta 0:00:01\n",
      "     ---------------------------------------  2.5/2.5 MB 9.4 MB/s eta 0:00:01\n",
      "     ---------------------------------------  2.5/2.5 MB 9.4 MB/s eta 0:00:01\n",
      "     ---------------------------------------  2.5/2.5 MB 9.4 MB/s eta 0:00:01\n",
      "     ---------------------------------------- 2.5/2.5 MB 5.7 MB/s eta 0:00:00\n",
      "Requirement already satisfied: python-dateutil>=2.7 in c:\\python310\\lib\\site-packages (from matplotlib) (2.8.2)\n",
      "Collecting contourpy>=1.0.1\n",
      "  Downloading contourpy-1.1.0-cp310-cp310-win_amd64.whl (470 kB)\n",
      "     ---------------------------------------- 0.0/470.4 kB ? eta -:--:--\n",
      "     ------------------------------------  460.8/470.4 kB 28.2 MB/s eta 0:00:01\n",
      "     -------------------------------------- 470.4/470.4 kB 9.8 MB/s eta 0:00:00\n",
      "Requirement already satisfied: six>=1.5 in c:\\python310\\lib\\site-packages (from python-dateutil>=2.7->matplotlib) (1.16.0)\n",
      "Installing collected packages: pyparsing, pillow, kiwisolver, fonttools, cycler, contourpy, matplotlib\n",
      "Successfully installed contourpy-1.1.0 cycler-0.11.0 fonttools-4.41.0 kiwisolver-1.4.4 matplotlib-3.7.2 pillow-10.0.0 pyparsing-3.0.9\n"
     ]
    },
    {
     "name": "stderr",
     "output_type": "stream",
     "text": [
      "\n",
      "[notice] A new release of pip is available: 23.0.1 -> 23.2\n",
      "[notice] To update, run: python.exe -m pip install --upgrade pip\n"
     ]
    }
   ],
   "source": [
    "!pip install matplotlib"
   ]
  },
  {
   "cell_type": "code",
   "execution_count": 4,
   "id": "beedb635",
   "metadata": {},
   "outputs": [
    {
     "name": "stdout",
     "output_type": "stream",
     "text": [
      "Collecting seaborn\n",
      "  Downloading seaborn-0.12.2-py3-none-any.whl (293 kB)\n",
      "     ---------------------------------------- 0.0/293.3 kB ? eta -:--:--\n",
      "     ---- ---------------------------------- 30.7/293.3 kB 1.3 MB/s eta 0:00:01\n",
      "     ------- ----------------------------- 61.4/293.3 kB 656.4 kB/s eta 0:00:01\n",
      "     ------------- ---------------------- 112.6/293.3 kB 930.9 kB/s eta 0:00:01\n",
      "     ----------------------------- -------- 225.3/293.3 kB 1.3 MB/s eta 0:00:01\n",
      "     ---------------------------------- --- 266.2/293.3 kB 1.2 MB/s eta 0:00:01\n",
      "     -------------------------------------  286.7/293.3 kB 1.3 MB/s eta 0:00:01\n",
      "     ------------------------------------ 293.3/293.3 kB 953.0 kB/s eta 0:00:00\n",
      "Requirement already satisfied: pandas>=0.25 in c:\\python310\\lib\\site-packages (from seaborn) (2.0.3)\n",
      "Requirement already satisfied: matplotlib!=3.6.1,>=3.1 in c:\\python310\\lib\\site-packages (from seaborn) (3.7.2)\n",
      "Requirement already satisfied: numpy!=1.24.0,>=1.17 in c:\\python310\\lib\\site-packages (from seaborn) (1.25.1)\n",
      "Requirement already satisfied: fonttools>=4.22.0 in c:\\python310\\lib\\site-packages (from matplotlib!=3.6.1,>=3.1->seaborn) (4.41.0)\n",
      "Requirement already satisfied: contourpy>=1.0.1 in c:\\python310\\lib\\site-packages (from matplotlib!=3.6.1,>=3.1->seaborn) (1.1.0)\n",
      "Requirement already satisfied: cycler>=0.10 in c:\\python310\\lib\\site-packages (from matplotlib!=3.6.1,>=3.1->seaborn) (0.11.0)\n",
      "Requirement already satisfied: python-dateutil>=2.7 in c:\\python310\\lib\\site-packages (from matplotlib!=3.6.1,>=3.1->seaborn) (2.8.2)\n",
      "Requirement already satisfied: kiwisolver>=1.0.1 in c:\\python310\\lib\\site-packages (from matplotlib!=3.6.1,>=3.1->seaborn) (1.4.4)\n",
      "Requirement already satisfied: pillow>=6.2.0 in c:\\python310\\lib\\site-packages (from matplotlib!=3.6.1,>=3.1->seaborn) (10.0.0)\n",
      "Requirement already satisfied: packaging>=20.0 in c:\\python310\\lib\\site-packages (from matplotlib!=3.6.1,>=3.1->seaborn) (23.1)\n",
      "Requirement already satisfied: pyparsing<3.1,>=2.3.1 in c:\\python310\\lib\\site-packages (from matplotlib!=3.6.1,>=3.1->seaborn) (3.0.9)\n",
      "Requirement already satisfied: pytz>=2020.1 in c:\\python310\\lib\\site-packages (from pandas>=0.25->seaborn) (2023.3)\n",
      "Requirement already satisfied: tzdata>=2022.1 in c:\\python310\\lib\\site-packages (from pandas>=0.25->seaborn) (2023.3)\n",
      "Requirement already satisfied: six>=1.5 in c:\\python310\\lib\\site-packages (from python-dateutil>=2.7->matplotlib!=3.6.1,>=3.1->seaborn) (1.16.0)\n",
      "Installing collected packages: seaborn\n",
      "Successfully installed seaborn-0.12.2\n"
     ]
    },
    {
     "name": "stderr",
     "output_type": "stream",
     "text": [
      "\n",
      "[notice] A new release of pip is available: 23.0.1 -> 23.2\n",
      "[notice] To update, run: python.exe -m pip install --upgrade pip\n"
     ]
    }
   ],
   "source": [
    "!pip install seaborn"
   ]
  },
  {
   "cell_type": "code",
   "execution_count": null,
   "id": "1cdfaf11",
   "metadata": {},
   "outputs": [],
   "source": []
  }
 ],
 "metadata": {
  "kernelspec": {
   "display_name": "Python 3 (ipykernel)",
   "language": "python",
   "name": "python3"
  },
  "language_info": {
   "codemirror_mode": {
    "name": "ipython",
    "version": 3
   },
   "file_extension": ".py",
   "mimetype": "text/x-python",
   "name": "python",
   "nbconvert_exporter": "python",
   "pygments_lexer": "ipython3",
   "version": "3.10.11"
  }
 },
 "nbformat": 4,
 "nbformat_minor": 5
}
